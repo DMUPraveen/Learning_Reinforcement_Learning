{
 "cells": [
  {
   "cell_type": "markdown",
   "id": "8e8907e1-2dce-40eb-9120-155738194d68",
   "metadata": {},
   "source": [
    "# Problem Statement\n",
    "![Example 4.1](assets/Value_Iteration_Example4_1.png)"
   ]
  },
  {
   "cell_type": "code",
   "execution_count": 2,
   "id": "c9f4eb03-84d3-4f54-8e98-b6a62f3c2ff8",
   "metadata": {},
   "outputs": [],
   "source": [
    "import numpy as np\n",
    "import matplotlib.pyplot as plt"
   ]
  },
  {
   "cell_type": "code",
   "execution_count": 3,
   "id": "41587425-4b5c-478f-b002-bc27f208eb79",
   "metadata": {},
   "outputs": [
    {
     "data": {
      "text/plain": [
       "<matplotlib.image.AxesImage at 0x2266a992ac0>"
      ]
     },
     "execution_count": 3,
     "metadata": {},
     "output_type": "execute_result"
    },
    {
     "data": {
      "image/png": "[encoded data removed]",
      "text/plain": [
       "<Figure size 432x288 with 1 Axes>"
      ]
     },
     "metadata": {
      "needs_background": "light"
     },
     "output_type": "display_data"
    }
   ],
   "source": [
    "a = np.random.rand(10,10)\n",
    "plt.imshow(a)"
   ]
  },
  {
   "cell_type": "code",
   "execution_count": 11,
   "id": "8bc8492b-c392-4cfb-b993-f2477e304411",
   "metadata": {},
   "outputs": [
    {
     "name": "stdout",
     "output_type": "stream",
     "text": [
      "[[  0. -14. -20. -22.]\n",
      " [-14. -18. -20. -20.]\n",
      " [-20. -20. -18. -14.]\n",
      " [-22. -20. -14.   0.]]\n",
      "Took 173 iterations\n"
     ]
    },
    {
     "data": {
      "image/png": "[encoded data removed]",
      "text/plain": [
       "<Figure size 432x288 with 1 Axes>"
      ]
     },
     "metadata": {
      "needs_background": "light"
     },
     "output_type": "display_data"
    },
    {
     "data": {
      "image/png": "[encoded data removed]",
      "text/plain": [
       "<Figure size 432x288 with 1 Axes>"
      ]
     },
     "metadata": {
      "needs_background": "light"
     },
     "output_type": "display_data"
    }
   ],
   "source": [
    "import random\n",
    "actions = [(1,0),(0,1),(-1,0),(0,-1)]\n",
    "terminal_states = {(0,0),(3,3)}\n",
    "limits = (4,4)\n",
    "\n",
    "\n",
    "def policy(action,state):\n",
    "    return 1/len(actions)\n",
    "\n",
    "def out_of_bounds(point):\n",
    "    return not (0<=point[0]<limits[0] and 0<=point[1]<limits[1])\n",
    "\n",
    "def is_terminal(state):\n",
    "    return state in terminal_states\n",
    "def expected_reward(current_state,next_state,action):\n",
    "    if(is_terminal(current_state)):\n",
    "        return 0\n",
    "    return -1\n",
    "\n",
    "def get_next_state(current_state,action):\n",
    "    if(is_terminal(current_state)):\n",
    "        return current_state\n",
    "    next_state = current_state[0]+action[0],current_state[1]+action[1]\n",
    "    if(out_of_bounds(next_state)):\n",
    "        return current_state\n",
    "    return next_state\n",
    "    \n",
    "\n",
    "def value_iteration_step(current_value_estimate,gamma):\n",
    "    new_value_estimate = np.zeros(current_value_estimate.shape)\n",
    "    for i in range(limits[0]):\n",
    "        for j in range(limits[1]):\n",
    "            for action in actions:\n",
    "                current_state = (i,j)\n",
    "                next_state = get_next_state((i,j),action)\n",
    "                nexti,nextj = next_state\n",
    "                new_value_estimate[i,j] += policy(action,current_state)*(expected_reward(current_state,next_state,action)+gamma*current_value_estimate[nexti,nextj])\n",
    "    return new_value_estimate     \n",
    "estimate = np.zeros(limits,dtype=float)\n",
    "\n",
    "\n",
    "def value_iteration(current_estimate,gamma,epsilon):\n",
    "    delta_history = []\n",
    "    number_of_iterations = 0\n",
    "    delta = float('inf')\n",
    "    while (delta>epsilon):\n",
    "        new_estimate = value_iteration_step(current_estimate,gamma)\n",
    "        delta = np.max(np.abs(new_estimate-current_estimate))\n",
    "        current_estimate = new_estimate\n",
    "        number_of_iterations+=1\n",
    "        delta_history.append(delta)\n",
    "    return current_estimate,number_of_iterations,delta_history\n",
    "\n",
    "\n",
    "\n",
    "starting_estimate = np.zeros(limits,dtype=float)\n",
    "epsilon = 0.0001\n",
    "gamma = 1\n",
    "value_estimate, iteration,delta_history = value_iteration(starting_estimate,gamma,epsilon)\n",
    "print(np.round(value_estimate,decimals=1))\n",
    "print(f\"Took {iteration} iterations\")\n",
    "\n",
    "plt.imshow(value_estimate)\n",
    "plt.show()\n",
    "plt.ylabel('$\\Delta$')\n",
    "plt.xlabel('iterations')\n",
    "plt.plot(delta_history)\n",
    "plt.show()\n",
    "\n"
   ]
  },
  {
   "cell_type": "code",
   "execution_count": null,
   "id": "76414fff-d7e6-4e67-a3c0-c3d575679487",
   "metadata": {},
   "outputs": [],
   "source": []
  }
 ],
 "metadata": {
  "kernelspec": {
   "display_name": "Python 3 (ipykernel)",
   "language": "python",
   "name": "python3"
  },
  "language_info": {
   "codemirror_mode": {
    "name": "ipython",
    "version": 3
   },
   "file_extension": ".py",
   "mimetype": "text/x-python",
   "name": "python",
   "nbconvert_exporter": "python",
   "pygments_lexer": "ipython3",
   "version": "3.9.6"
  }
 },
 "nbformat": 4,
 "nbformat_minor": 5
}
